{
  "nbformat": 4,
  "nbformat_minor": 0,
  "metadata": {
    "colab": {
      "provenance": []
    },
    "kernelspec": {
      "name": "python3",
      "display_name": "Python 3"
    },
    "language_info": {
      "name": "python"
    }
  },
  "cells": [
    {
      "cell_type": "code",
      "source": [
        "from pyspark.sql import SparkSession\n",
        "from pyspark.sql.functions import upper,lower,initcap\n"
      ],
      "metadata": {
        "id": "HW0Ce1TIxnR9"
      },
      "execution_count": 11,
      "outputs": []
    },
    {
      "cell_type": "code",
      "source": [
        "from pyspark.sql.functions import *"
      ],
      "metadata": {
        "id": "-tBt23Z10pFP"
      },
      "execution_count": 23,
      "outputs": []
    },
    {
      "cell_type": "code",
      "source": [
        "spark=SparkSession.builder.appName(\"string\").getOrCreate()"
      ],
      "metadata": {
        "id": "ZmIbE1JuxvlZ"
      },
      "execution_count": 2,
      "outputs": []
    },
    {
      "cell_type": "code",
      "source": [
        "data=[(1 ,\" i love the product!! \"),\n",
        "\n",
        "( 2 ,\"worst experience ever, NOT happy \"),\n",
        "      (3 ,\"Great service, will buy again!!!\")]"
      ],
      "metadata": {
        "id": "q1MgYl18x1rt"
      },
      "execution_count": 48,
      "outputs": []
    },
    {
      "cell_type": "code",
      "execution_count": 49,
      "metadata": {
        "id": "nwD4cBN1xlZ5"
      },
      "outputs": [],
      "source": [
        "column=[\"customer_id\", \"feedback\" ]"
      ]
    },
    {
      "cell_type": "code",
      "source": [
        "df=spark.createDataFrame(data,column)"
      ],
      "metadata": {
        "id": "oG0-UEqDyNch"
      },
      "execution_count": 50,
      "outputs": []
    },
    {
      "cell_type": "code",
      "source": [
        "df.take(3)"
      ],
      "metadata": {
        "colab": {
          "base_uri": "https://localhost:8080/"
        },
        "id": "1z0-3T5tySH8",
        "outputId": "d574d043-70c3-48d4-d0e0-de3e6818e0b5"
      },
      "execution_count": 51,
      "outputs": [
        {
          "output_type": "execute_result",
          "data": {
            "text/plain": [
              "[Row(customer_id=1, feedback=' i love the product!! '),\n",
              " Row(customer_id=2, feedback='worst experience ever, NOT happy '),\n",
              " Row(customer_id=3, feedback='Great service, will buy again!!!')]"
            ]
          },
          "metadata": {},
          "execution_count": 51
        }
      ]
    },
    {
      "cell_type": "markdown",
      "source": [
        "## String()"
      ],
      "metadata": {
        "id": "ea2VyiysyfEI"
      }
    },
    {
      "cell_type": "code",
      "source": [
        "#upper()\n",
        "df_upper=df.withColumn(\"feedback\",upper(col(\"feedback\")))"
      ],
      "metadata": {
        "id": "By_82CIkyaGp"
      },
      "execution_count": 52,
      "outputs": []
    },
    {
      "cell_type": "code",
      "source": [
        "df_upper.take(3)"
      ],
      "metadata": {
        "colab": {
          "base_uri": "https://localhost:8080/"
        },
        "id": "zZ5bR2joznIi",
        "outputId": "07cdaad7-8064-487b-989f-408d0d339576"
      },
      "execution_count": 53,
      "outputs": [
        {
          "output_type": "execute_result",
          "data": {
            "text/plain": [
              "[Row(customer_id=1, feedback=' I LOVE THE PRODUCT!! '),\n",
              " Row(customer_id=2, feedback='WORST EXPERIENCE EVER, NOT HAPPY '),\n",
              " Row(customer_id=3, feedback='GREAT SERVICE, WILL BUY AGAIN!!!')]"
            ]
          },
          "metadata": {},
          "execution_count": 53
        }
      ]
    },
    {
      "cell_type": "code",
      "source": [
        "#lower\n",
        "df_lower=df.withColumn(\"feedback\",lower(col(\"feedback\")))"
      ],
      "metadata": {
        "id": "nrLRWfAr0cP1"
      },
      "execution_count": 54,
      "outputs": []
    },
    {
      "cell_type": "code",
      "source": [
        "df_lower.take(3)"
      ],
      "metadata": {
        "colab": {
          "base_uri": "https://localhost:8080/"
        },
        "id": "F3PDLy6K0sUL",
        "outputId": "fcb02426-e496-40d6-c112-cfcc994b322b"
      },
      "execution_count": 55,
      "outputs": [
        {
          "output_type": "execute_result",
          "data": {
            "text/plain": [
              "[Row(customer_id=1, feedback=' i love the product!! '),\n",
              " Row(customer_id=2, feedback='worst experience ever, not happy '),\n",
              " Row(customer_id=3, feedback='great service, will buy again!!!')]"
            ]
          },
          "metadata": {},
          "execution_count": 55
        }
      ]
    },
    {
      "cell_type": "code",
      "source": [
        "#initcap()\n",
        "df_initcap=df.withColumn(\"feedback\",initcap(col(\"feedback\")))"
      ],
      "metadata": {
        "id": "jJkJSCJy0uPq"
      },
      "execution_count": 56,
      "outputs": []
    },
    {
      "cell_type": "code",
      "source": [
        "df_initcap.take(3)"
      ],
      "metadata": {
        "colab": {
          "base_uri": "https://localhost:8080/"
        },
        "id": "kLweFoUG1a4R",
        "outputId": "3339b54c-e355-4a60-e635-7ed6e14ee752"
      },
      "execution_count": 57,
      "outputs": [
        {
          "output_type": "execute_result",
          "data": {
            "text/plain": [
              "[Row(customer_id=1, feedback=' I Love The Product!! '),\n",
              " Row(customer_id=2, feedback='Worst Experience Ever, Not Happy '),\n",
              " Row(customer_id=3, feedback='Great Service, Will Buy Again!!!')]"
            ]
          },
          "metadata": {},
          "execution_count": 57
        }
      ]
    },
    {
      "cell_type": "code",
      "source": [
        "#trim()-remove whitespace\n",
        "df_trim=df.withColumn(\"feedback\",trim(col(\"feedback\")))"
      ],
      "metadata": {
        "id": "zq9zetkq1eCN"
      },
      "execution_count": 58,
      "outputs": []
    },
    {
      "cell_type": "code",
      "source": [
        "df_trim.take(3)"
      ],
      "metadata": {
        "colab": {
          "base_uri": "https://localhost:8080/"
        },
        "id": "Dzyu1qkm12Mc",
        "outputId": "f493c3c3-628f-48ac-e4df-676b52b194ef"
      },
      "execution_count": 59,
      "outputs": [
        {
          "output_type": "execute_result",
          "data": {
            "text/plain": [
              "[Row(customer_id=1, feedback='i love the product!!'),\n",
              " Row(customer_id=2, feedback='worst experience ever, NOT happy'),\n",
              " Row(customer_id=3, feedback='Great service, will buy again!!!')]"
            ]
          },
          "metadata": {},
          "execution_count": 59
        }
      ]
    },
    {
      "cell_type": "code",
      "source": [
        "#ltrim()\n",
        "df_ltrim=df.withColumn(\"feedback\",ltrim(col(\"feedback\")))\n",
        "df_ltrim.take(3)"
      ],
      "metadata": {
        "colab": {
          "base_uri": "https://localhost:8080/"
        },
        "id": "zvYgRaqL13sF",
        "outputId": "8f7b171c-09e0-4385-9654-2bc8f0ff8c16"
      },
      "execution_count": 62,
      "outputs": [
        {
          "output_type": "execute_result",
          "data": {
            "text/plain": [
              "[Row(customer_id=1, feedback='i love the product!! '),\n",
              " Row(customer_id=2, feedback='worst experience ever, NOT happy '),\n",
              " Row(customer_id=3, feedback='Great service, will buy again!!!')]"
            ]
          },
          "metadata": {},
          "execution_count": 62
        }
      ]
    },
    {
      "cell_type": "code",
      "source": [
        "#rtrim\n",
        "df_rtrim=df.withColumn(\"feedback\",rtrim(col(\"feedback\")))\n",
        "df_rtrim.take(3)"
      ],
      "metadata": {
        "colab": {
          "base_uri": "https://localhost:8080/"
        },
        "id": "72ykkBmW2QXv",
        "outputId": "db813483-cc72-401e-c9ab-11621a6c10c0"
      },
      "execution_count": 63,
      "outputs": [
        {
          "output_type": "execute_result",
          "data": {
            "text/plain": [
              "[Row(customer_id=1, feedback=' i love the product!!'),\n",
              " Row(customer_id=2, feedback='worst experience ever, NOT happy'),\n",
              " Row(customer_id=3, feedback='Great service, will buy again!!!')]"
            ]
          },
          "metadata": {},
          "execution_count": 63
        }
      ]
    },
    {
      "cell_type": "code",
      "source": [
        "#substring_index()\n",
        "df_substring_index=df.withColumn(\"feedback\",substring_index(col(\"feedback\"),\" \",2))\n",
        "df_substring_index.take(3)"
      ],
      "metadata": {
        "colab": {
          "base_uri": "https://localhost:8080/"
        },
        "id": "WOcpmp_c2WDg",
        "outputId": "f2f260a6-cff4-474b-80ac-824e84e99717"
      },
      "execution_count": 70,
      "outputs": [
        {
          "output_type": "execute_result",
          "data": {
            "text/plain": [
              "[Row(customer_id=1, feedback=' i'),\n",
              " Row(customer_id=2, feedback='worst experience'),\n",
              " Row(customer_id=3, feedback='Great service,')]"
            ]
          },
          "metadata": {},
          "execution_count": 70
        }
      ]
    },
    {
      "cell_type": "code",
      "source": [
        "#substring()\n",
        "df_substring=df.withColumn(\"feedback\",substring(col(\"feedback\"),1,5))\n",
        "df_substring.take(3)"
      ],
      "metadata": {
        "colab": {
          "base_uri": "https://localhost:8080/"
        },
        "id": "n_TYoV_D39cO",
        "outputId": "55cb6fe9-2a16-4c29-ede9-cba2a345eddd"
      },
      "execution_count": 74,
      "outputs": [
        {
          "output_type": "execute_result",
          "data": {
            "text/plain": [
              "[Row(customer_id=1, feedback=' i lo'),\n",
              " Row(customer_id=2, feedback='worst'),\n",
              " Row(customer_id=3, feedback='Great')]"
            ]
          },
          "metadata": {},
          "execution_count": 74
        }
      ]
    },
    {
      "cell_type": "code",
      "source": [
        "#split()\n",
        "df_split=df_trim.withColumn(\"feedback\",split(col(\"feedback\"),\",\"))\n",
        "df_split.take(3)"
      ],
      "metadata": {
        "colab": {
          "base_uri": "https://localhost:8080/"
        },
        "id": "-u91cWle4fwC",
        "outputId": "ff221153-4849-4c13-a5b7-d6b84530dd78"
      },
      "execution_count": 80,
      "outputs": [
        {
          "output_type": "execute_result",
          "data": {
            "text/plain": [
              "[Row(customer_id=1, feedback=['i love the product!!']),\n",
              " Row(customer_id=2, feedback=['worst experience ever', ' NOT happy']),\n",
              " Row(customer_id=3, feedback=['Great service', ' will buy again!!!'])]"
            ]
          },
          "metadata": {},
          "execution_count": 80
        }
      ]
    },
    {
      "cell_type": "code",
      "source": [
        "#lpad()\n",
        "df_lpad=df.withColumn(\"feedback\",lpad(col(\"feedback\"),10,\"*\"))\n",
        "df_lpad.take(3)"
      ],
      "metadata": {
        "colab": {
          "base_uri": "https://localhost:8080/"
        },
        "id": "lwunohk95DT-",
        "outputId": "21a67181-71f9-441e-e40e-179ad538de11"
      },
      "execution_count": 81,
      "outputs": [
        {
          "output_type": "execute_result",
          "data": {
            "text/plain": [
              "[Row(customer_id=1, feedback=' i love th'),\n",
              " Row(customer_id=2, feedback='worst expe'),\n",
              " Row(customer_id=3, feedback='Great serv')]"
            ]
          },
          "metadata": {},
          "execution_count": 81
        }
      ]
    },
    {
      "cell_type": "code",
      "source": [
        "#rpad()\n",
        "df_rpad=df.withColumn(\"feedback\",rpad(col(\"feedback\"),15,\"*\"))\n",
        "df_rpad.take(3)"
      ],
      "metadata": {
        "colab": {
          "base_uri": "https://localhost:8080/"
        },
        "id": "llJDwqzB51ve",
        "outputId": "96f9b24b-d25c-49d5-b432-17691e3b4560"
      },
      "execution_count": 83,
      "outputs": [
        {
          "output_type": "execute_result",
          "data": {
            "text/plain": [
              "[Row(customer_id=1, feedback=' i love the pro'),\n",
              " Row(customer_id=2, feedback='worst experienc'),\n",
              " Row(customer_id=3, feedback='Great service, ')]"
            ]
          },
          "metadata": {},
          "execution_count": 83
        }
      ]
    },
    {
      "cell_type": "code",
      "source": [
        "#regex_replace()\n",
        "df_regexp_replace=df.withColumn(\"feedback\",regexp_replace(col(\"feedback\"),'[^a-zA-Z ]',''))\n",
        "df_regexp_replace.take(3)"
      ],
      "metadata": {
        "colab": {
          "base_uri": "https://localhost:8080/"
        },
        "id": "Ohuglbdd6DjQ",
        "outputId": "7c967c92-9e19-433c-e0b2-c8df7953765d"
      },
      "execution_count": 89,
      "outputs": [
        {
          "output_type": "execute_result",
          "data": {
            "text/plain": [
              "[Row(customer_id=1, feedback=' i love the product '),\n",
              " Row(customer_id=2, feedback='worst experience ever NOT happy '),\n",
              " Row(customer_id=3, feedback='Great service will buy again')]"
            ]
          },
          "metadata": {},
          "execution_count": 89
        }
      ]
    },
    {
      "cell_type": "code",
      "source": [
        "#regex_extract\n",
        "df_regexp_extract=df.withColumn(\"feedback\",regexp_extract(col(\"feedback\"),'(\\\\w+)',1))\n",
        "df_regexp_extract.take(3)"
      ],
      "metadata": {
        "colab": {
          "base_uri": "https://localhost:8080/"
        },
        "id": "3MLOMKIQ6gcp",
        "outputId": "1af991cb-e94d-4491-9609-0e9a88f34eea"
      },
      "execution_count": 94,
      "outputs": [
        {
          "output_type": "execute_result",
          "data": {
            "text/plain": [
              "[Row(customer_id=1, feedback='i'),\n",
              " Row(customer_id=2, feedback='worst'),\n",
              " Row(customer_id=3, feedback='Great')]"
            ]
          },
          "metadata": {},
          "execution_count": 94
        }
      ]
    },
    {
      "cell_type": "code",
      "source": [
        "#length\n",
        "df_length=df.withColumn(\"length\",length(col(\"feedback\")))\n",
        "df_length.take(3)"
      ],
      "metadata": {
        "colab": {
          "base_uri": "https://localhost:8080/"
        },
        "id": "LBri86288O9R",
        "outputId": "9bd4e77e-04ff-4969-e442-1827708464bb"
      },
      "execution_count": 95,
      "outputs": [
        {
          "output_type": "execute_result",
          "data": {
            "text/plain": [
              "[Row(customer_id=1, feedback=' i love the product!! ', length=22),\n",
              " Row(customer_id=2, feedback='worst experience ever, NOT happy ', length=33),\n",
              " Row(customer_id=3, feedback='Great service, will buy again!!!', length=32)]"
            ]
          },
          "metadata": {},
          "execution_count": 95
        }
      ]
    },
    {
      "cell_type": "code",
      "source": [
        "#instr()\n",
        "df_instr=df.withColumn(\"instr\",instr(col(\"feedback\"),\"product\"))\n",
        "df_instr.take(1)"
      ],
      "metadata": {
        "colab": {
          "base_uri": "https://localhost:8080/"
        },
        "id": "uXvp4uvr8xup",
        "outputId": "db1592ee-f0ee-4ff3-c382-f636ff936d50"
      },
      "execution_count": 97,
      "outputs": [
        {
          "output_type": "execute_result",
          "data": {
            "text/plain": [
              "[Row(customer_id=1, feedback=' i love the product!! ', instr=13)]"
            ]
          },
          "metadata": {},
          "execution_count": 97
        }
      ]
    },
    {
      "cell_type": "code",
      "source": [],
      "metadata": {
        "id": "LcnQAkrt86hz"
      },
      "execution_count": null,
      "outputs": []
    }
  ]
}