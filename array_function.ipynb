{
  "nbformat": 4,
  "nbformat_minor": 0,
  "metadata": {
    "colab": {
      "provenance": [],
      "toc_visible": true
    },
    "kernelspec": {
      "name": "python3",
      "display_name": "Python 3"
    },
    "language_info": {
      "name": "python"
    }
  },
  "cells": [
    {
      "cell_type": "code",
      "execution_count": 37,
      "metadata": {
        "colab": {
          "base_uri": "https://localhost:8080/"
        },
        "id": "MMbCv529pgZ1",
        "outputId": "de8dfd45-c5e3-4e4a-b02f-7cfecba9e905"
      },
      "outputs": [
        {
          "output_type": "stream",
          "name": "stdout",
          "text": [
            "+---+-------+\n",
            "| id|   name|\n",
            "+---+-------+\n",
            "|  1|  Alice|\n",
            "|  2|    Bob|\n",
            "|  3|Charlie|\n",
            "+---+-------+\n",
            "\n"
          ]
        }
      ],
      "source": [
        "from pyspark.sql import SparkSession\n",
        "from pyspark.sql.functions import array, array_contains, size, expr, col,array_position,array_remove\n",
        "\n",
        "spark = SparkSession.builder.appName(\"ArrayFunctionsExample\").getOrCreate()\n",
        "\n",
        "# Sample DataFrame\n",
        "data = [\n",
        "    (1, \"Alice\"),\n",
        "    (2, \"Bob\"),\n",
        "    (3, \"Charlie\")\n",
        "]\n",
        "\n",
        "df = spark.createDataFrame(data, [\"id\", \"name\"])\n",
        "df.show()\n"
      ]
    },
    {
      "cell_type": "markdown",
      "source": [
        "## array()"
      ],
      "metadata": {
        "id": "VUF2BmmEyOJl"
      }
    },
    {
      "cell_type": "code",
      "source": [
        "#array()\n",
        "df = df.withColumn(\"name_array\", array(col(\"name\"), expr('\"hello\"'), expr('\"world\"')))\n",
        "df.show()"
      ],
      "metadata": {
        "colab": {
          "base_uri": "https://localhost:8080/"
        },
        "id": "7_z54dFouRVZ",
        "outputId": "9b3af408-72e7-4f76-cc29-150b0ff65205"
      },
      "execution_count": 38,
      "outputs": [
        {
          "output_type": "stream",
          "name": "stdout",
          "text": [
            "+---+-------+--------------------+\n",
            "| id|   name|          name_array|\n",
            "+---+-------+--------------------+\n",
            "|  1|  Alice|[Alice, hello, wo...|\n",
            "|  2|    Bob| [Bob, hello, world]|\n",
            "|  3|Charlie|[Charlie, hello, ...|\n",
            "+---+-------+--------------------+\n",
            "\n"
          ]
        }
      ]
    },
    {
      "cell_type": "markdown",
      "source": [
        "## array_contains"
      ],
      "metadata": {
        "id": "0omp1zpkyKQa"
      }
    },
    {
      "cell_type": "code",
      "source": [
        "df_contains=df.withColumn(\"has_hello\",array_contains(col(\"name_array\"),\"hello\"))"
      ],
      "metadata": {
        "id": "R28pDAAFwQFw"
      },
      "execution_count": 39,
      "outputs": []
    },
    {
      "cell_type": "code",
      "source": [
        "df_contains.show()"
      ],
      "metadata": {
        "colab": {
          "base_uri": "https://localhost:8080/"
        },
        "id": "DXEap5r9x9xI",
        "outputId": "9ada65b6-517d-4619-c1c9-0e8a3f1a4f97"
      },
      "execution_count": 40,
      "outputs": [
        {
          "output_type": "stream",
          "name": "stdout",
          "text": [
            "+---+-------+--------------------+---------+\n",
            "| id|   name|          name_array|has_hello|\n",
            "+---+-------+--------------------+---------+\n",
            "|  1|  Alice|[Alice, hello, wo...|     true|\n",
            "|  2|    Bob| [Bob, hello, world]|     true|\n",
            "|  3|Charlie|[Charlie, hello, ...|     true|\n",
            "+---+-------+--------------------+---------+\n",
            "\n"
          ]
        }
      ]
    },
    {
      "cell_type": "markdown",
      "source": [
        "## array length()"
      ],
      "metadata": {
        "id": "EH_XzmjRyQ-E"
      }
    },
    {
      "cell_type": "code",
      "source": [
        "df_len=df.withColumn(\"len_of_array\",size(col(\"name_array\")))"
      ],
      "metadata": {
        "id": "Ug6bHtJzyCIc"
      },
      "execution_count": 41,
      "outputs": []
    },
    {
      "cell_type": "code",
      "source": [
        "df_len.show()"
      ],
      "metadata": {
        "colab": {
          "base_uri": "https://localhost:8080/"
        },
        "id": "uDleaFS9ympZ",
        "outputId": "11033edf-de64-4839-fb9f-5473c276b68b"
      },
      "execution_count": 42,
      "outputs": [
        {
          "output_type": "stream",
          "name": "stdout",
          "text": [
            "+---+-------+--------------------+------------+\n",
            "| id|   name|          name_array|len_of_array|\n",
            "+---+-------+--------------------+------------+\n",
            "|  1|  Alice|[Alice, hello, wo...|           3|\n",
            "|  2|    Bob| [Bob, hello, world]|           3|\n",
            "|  3|Charlie|[Charlie, hello, ...|           3|\n",
            "+---+-------+--------------------+------------+\n",
            "\n"
          ]
        }
      ]
    },
    {
      "cell_type": "markdown",
      "source": [
        "## array_position"
      ],
      "metadata": {
        "id": "xl6-IB5lzJ-r"
      }
    },
    {
      "cell_type": "code",
      "source": [
        "df_position = df.withColumn(\"pos_hello\", array_position(col(\"name_array\"), \"hello\"))\n",
        "df_position.show()"
      ],
      "metadata": {
        "colab": {
          "base_uri": "https://localhost:8080/"
        },
        "id": "3F81u20syo2Z",
        "outputId": "8153ac9e-d7cf-46b5-ac37-9788e26bbe4d"
      },
      "execution_count": 46,
      "outputs": [
        {
          "output_type": "stream",
          "name": "stdout",
          "text": [
            "+---+-------+--------------------+---------+\n",
            "| id|   name|          name_array|pos_hello|\n",
            "+---+-------+--------------------+---------+\n",
            "|  1|  Alice|[Alice, hello, wo...|        2|\n",
            "|  2|    Bob| [Bob, hello, world]|        2|\n",
            "|  3|Charlie|[Charlie, hello, ...|        2|\n",
            "+---+-------+--------------------+---------+\n",
            "\n"
          ]
        }
      ]
    },
    {
      "cell_type": "markdown",
      "source": [
        "## array_remove()"
      ],
      "metadata": {
        "id": "fBKcxUJ00D1-"
      }
    },
    {
      "cell_type": "code",
      "source": [
        "df_remove = df.withColumn(\"array_remove\", array_remove(col(\"name_array\"), \"hello\"))\n",
        "df_remove.show()"
      ],
      "metadata": {
        "colab": {
          "base_uri": "https://localhost:8080/"
        },
        "id": "Khyt0C3zzai7",
        "outputId": "ed4f5884-1012-4ec2-9b47-09227b5cdfe0"
      },
      "execution_count": 47,
      "outputs": [
        {
          "output_type": "stream",
          "name": "stdout",
          "text": [
            "+---+-------+--------------------+----------------+\n",
            "| id|   name|          name_array|    array_remove|\n",
            "+---+-------+--------------------+----------------+\n",
            "|  1|  Alice|[Alice, hello, wo...|  [Alice, world]|\n",
            "|  2|    Bob| [Bob, hello, world]|    [Bob, world]|\n",
            "|  3|Charlie|[Charlie, hello, ...|[Charlie, world]|\n",
            "+---+-------+--------------------+----------------+\n",
            "\n"
          ]
        }
      ]
    },
    {
      "cell_type": "code",
      "source": [],
      "metadata": {
        "id": "_85Xzl8g0PGh"
      },
      "execution_count": 44,
      "outputs": []
    }
  ]
}